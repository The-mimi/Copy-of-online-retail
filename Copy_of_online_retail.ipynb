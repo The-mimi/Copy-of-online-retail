{
  "cells": [
    {
      "cell_type": "markdown",
      "source": [
        "# **Import and View File**"
      ],
      "metadata": {
        "id": "2bnEoW_aDMkF"
      }
    },
    {
      "cell_type": "code",
      "execution_count": null,
      "metadata": {
        "id": "f2b6UcyFdCE4"
      },
      "outputs": [],
      "source": [
        "#Import libraries\n",
        "import pandas as pd\n",
        "import numpy as np\n",
        "import matplotlib.pyplot as plt\n",
        "import seaborn as sns\n",
        "from tabulate import tabulate"
      ]
    },
    {
      "cell_type": "code",
      "execution_count": null,
      "metadata": {
        "id": "aHoaslL3h0Zy"
      },
      "outputs": [],
      "source": [
        "#upload file\n",
        "df = pd.read_excel('/content/Online Retail.xlsx')\n"
      ]
    },
    {
      "cell_type": "code",
      "execution_count": null,
      "metadata": {
        "colab": {
          "base_uri": "https://localhost:8080/"
        },
        "id": "X6-jikxo0NUQ",
        "outputId": "448388fb-2c15-42ca-f4d6-45b3ef38ee13"
      },
      "outputs": [
        {
          "name": "stdout",
          "output_type": "stream",
          "text": [
            "Number of rows: 541909\n"
          ]
        }
      ],
      "source": [
        "#row count\n",
        "row_count = df.shape[0]\n",
        "print(f\"Number of rows: {row_count}\")"
      ]
    },
    {
      "cell_type": "code",
      "execution_count": null,
      "metadata": {
        "colab": {
          "base_uri": "https://localhost:8080/"
        },
        "id": "zEFrQIeaGW6P",
        "outputId": "c56bc5a6-6118-4423-a85d-c6df2aac1cd2"
      },
      "outputs": [
        {
          "output_type": "stream",
          "name": "stdout",
          "text": [
            "  InvoiceNo StockCode                          Description  Quantity  \\\n",
            "0    536365    85123A   WHITE HANGING HEART T-LIGHT HOLDER         6   \n",
            "1    536365     71053                  WHITE METAL LANTERN         6   \n",
            "2    536365    84406B       CREAM CUPID HEARTS COAT HANGER         8   \n",
            "3    536365    84029G  KNITTED UNION FLAG HOT WATER BOTTLE         6   \n",
            "4    536365    84029E       RED WOOLLY HOTTIE WHITE HEART.         6   \n",
            "\n",
            "          InvoiceDate  UnitPrice  CustomerID         Country  \n",
            "0 2010-12-01 08:26:00       2.55     17850.0  United Kingdom  \n",
            "1 2010-12-01 08:26:00       3.39     17850.0  United Kingdom  \n",
            "2 2010-12-01 08:26:00       2.75     17850.0  United Kingdom  \n",
            "3 2010-12-01 08:26:00       3.39     17850.0  United Kingdom  \n",
            "4 2010-12-01 08:26:00       3.39     17850.0  United Kingdom  \n"
          ]
        }
      ],
      "source": [
        "#first few rows\n",
        "print(df.head())"
      ]
    },
    {
      "cell_type": "code",
      "execution_count": null,
      "metadata": {
        "colab": {
          "base_uri": "https://localhost:8080/",
          "height": 335
        },
        "id": "EWbts2Ehl-hl",
        "outputId": "9479bbf5-4274-4406-de26-6afa8ff45fe4"
      },
      "outputs": [
        {
          "data": {
            "text/html": [
              "<div>\n",
              "<style scoped>\n",
              "    .dataframe tbody tr th:only-of-type {\n",
              "        vertical-align: middle;\n",
              "    }\n",
              "\n",
              "    .dataframe tbody tr th {\n",
              "        vertical-align: top;\n",
              "    }\n",
              "\n",
              "    .dataframe thead th {\n",
              "        text-align: right;\n",
              "    }\n",
              "</style>\n",
              "<table border=\"1\" class=\"dataframe\">\n",
              "  <thead>\n",
              "    <tr style=\"text-align: right;\">\n",
              "      <th></th>\n",
              "      <th>0</th>\n",
              "    </tr>\n",
              "  </thead>\n",
              "  <tbody>\n",
              "    <tr>\n",
              "      <th>InvoiceNo</th>\n",
              "      <td>object</td>\n",
              "    </tr>\n",
              "    <tr>\n",
              "      <th>StockCode</th>\n",
              "      <td>object</td>\n",
              "    </tr>\n",
              "    <tr>\n",
              "      <th>Description</th>\n",
              "      <td>object</td>\n",
              "    </tr>\n",
              "    <tr>\n",
              "      <th>Quantity</th>\n",
              "      <td>int64</td>\n",
              "    </tr>\n",
              "    <tr>\n",
              "      <th>InvoiceDate</th>\n",
              "      <td>datetime64[ns]</td>\n",
              "    </tr>\n",
              "    <tr>\n",
              "      <th>UnitPrice</th>\n",
              "      <td>float64</td>\n",
              "    </tr>\n",
              "    <tr>\n",
              "      <th>CustomerID</th>\n",
              "      <td>float64</td>\n",
              "    </tr>\n",
              "    <tr>\n",
              "      <th>Country</th>\n",
              "      <td>object</td>\n",
              "    </tr>\n",
              "  </tbody>\n",
              "</table>\n",
              "</div><br><label><b>dtype:</b> object</label>"
            ],
            "text/plain": [
              "InvoiceNo              object\n",
              "StockCode              object\n",
              "Description            object\n",
              "Quantity                int64\n",
              "InvoiceDate    datetime64[ns]\n",
              "UnitPrice             float64\n",
              "CustomerID            float64\n",
              "Country                object\n",
              "dtype: object"
            ]
          },
          "execution_count": 4,
          "metadata": {},
          "output_type": "execute_result"
        }
      ],
      "source": [
        "#Check Datatype\n",
        "df.dtypes\n"
      ]
    },
    {
      "cell_type": "markdown",
      "source": [
        "# **Clean Dataset**"
      ],
      "metadata": {
        "id": "JALd5oRkDcSY"
      }
    },
    {
      "cell_type": "code",
      "execution_count": null,
      "metadata": {
        "colab": {
          "base_uri": "https://localhost:8080/"
        },
        "id": "xVe9srhXrGsC",
        "outputId": "cda5ec76-14ed-4ecf-c467-9b87a29d3855"
      },
      "outputs": [
        {
          "name": "stdout",
          "output_type": "stream",
          "text": [
            "       InvoiceNo StockCode                          Description  Quantity  \\\n",
            "494       536409     21866          UNION JACK FLAG LUGGAGE TAG         1   \n",
            "517       536409     21866          UNION JACK FLAG LUGGAGE TAG         1   \n",
            "485       536409     22111         SCOTTIE DOG HOT WATER BOTTLE         1   \n",
            "539       536409     22111         SCOTTIE DOG HOT WATER BOTTLE         1   \n",
            "489       536409     22866        HAND WARMER SCOTTY DOG DESIGN         1   \n",
            "...          ...       ...                                  ...       ...   \n",
            "440149   C574510     22360      GLASS JAR ENGLISH CONFECTIONERY        -1   \n",
            "461407   C575940     23309  SET OF 60 I LOVE LONDON CAKE CASES        -24   \n",
            "461408   C575940     23309  SET OF 60 I LOVE LONDON CAKE CASES        -24   \n",
            "529980   C580764     22667                RECIPE BOX RETROSPOT        -12   \n",
            "529981   C580764     22667                RECIPE BOX RETROSPOT        -12   \n",
            "\n",
            "               InvoiceDate  UnitPrice  CustomerID         Country  \n",
            "494    2010-12-01 11:45:00       1.25     17908.0  United Kingdom  \n",
            "517    2010-12-01 11:45:00       1.25     17908.0  United Kingdom  \n",
            "485    2010-12-01 11:45:00       4.95     17908.0  United Kingdom  \n",
            "539    2010-12-01 11:45:00       4.95     17908.0  United Kingdom  \n",
            "489    2010-12-01 11:45:00       2.10     17908.0  United Kingdom  \n",
            "...                    ...        ...         ...             ...  \n",
            "440149 2011-11-04 13:25:00       2.95     15110.0  United Kingdom  \n",
            "461407 2011-11-13 11:38:00       0.55     17838.0  United Kingdom  \n",
            "461408 2011-11-13 11:38:00       0.55     17838.0  United Kingdom  \n",
            "529980 2011-12-06 10:38:00       2.95     14562.0  United Kingdom  \n",
            "529981 2011-12-06 10:38:00       2.95     14562.0  United Kingdom  \n",
            "\n",
            "[10147 rows x 8 columns]\n",
            "number of duplicate rows:  (5268, 8)\n"
          ]
        }
      ],
      "source": [
        "#check for duplicates\n",
        "df.shape\n",
        "duplicate_rows_df = df[df.duplicated()]\n",
        "print(duplicates.sort_values(list(df.columns)))\n",
        "print(\"number of duplicate rows: \", duplicate_rows_df.shape)"
      ]
    },
    {
      "cell_type": "code",
      "execution_count": null,
      "metadata": {
        "colab": {
          "base_uri": "https://localhost:8080/",
          "height": 335
        },
        "id": "3z25tv64JCQy",
        "outputId": "c9ec89be-cedb-47d3-e574-9d89f0f5936c"
      },
      "outputs": [
        {
          "output_type": "execute_result",
          "data": {
            "text/plain": [
              "InvoiceNo      536641\n",
              "StockCode      536641\n",
              "Description    535187\n",
              "Quantity       536641\n",
              "InvoiceDate    536641\n",
              "UnitPrice      536641\n",
              "CustomerID     401604\n",
              "Country        536641\n",
              "dtype: int64"
            ],
            "text/html": [
              "<div>\n",
              "<style scoped>\n",
              "    .dataframe tbody tr th:only-of-type {\n",
              "        vertical-align: middle;\n",
              "    }\n",
              "\n",
              "    .dataframe tbody tr th {\n",
              "        vertical-align: top;\n",
              "    }\n",
              "\n",
              "    .dataframe thead th {\n",
              "        text-align: right;\n",
              "    }\n",
              "</style>\n",
              "<table border=\"1\" class=\"dataframe\">\n",
              "  <thead>\n",
              "    <tr style=\"text-align: right;\">\n",
              "      <th></th>\n",
              "      <th>0</th>\n",
              "    </tr>\n",
              "  </thead>\n",
              "  <tbody>\n",
              "    <tr>\n",
              "      <th>InvoiceNo</th>\n",
              "      <td>536641</td>\n",
              "    </tr>\n",
              "    <tr>\n",
              "      <th>StockCode</th>\n",
              "      <td>536641</td>\n",
              "    </tr>\n",
              "    <tr>\n",
              "      <th>Description</th>\n",
              "      <td>535187</td>\n",
              "    </tr>\n",
              "    <tr>\n",
              "      <th>Quantity</th>\n",
              "      <td>536641</td>\n",
              "    </tr>\n",
              "    <tr>\n",
              "      <th>InvoiceDate</th>\n",
              "      <td>536641</td>\n",
              "    </tr>\n",
              "    <tr>\n",
              "      <th>UnitPrice</th>\n",
              "      <td>536641</td>\n",
              "    </tr>\n",
              "    <tr>\n",
              "      <th>CustomerID</th>\n",
              "      <td>401604</td>\n",
              "    </tr>\n",
              "    <tr>\n",
              "      <th>Country</th>\n",
              "      <td>536641</td>\n",
              "    </tr>\n",
              "  </tbody>\n",
              "</table>\n",
              "</div><br><label><b>dtype:</b> int64</label>"
            ]
          },
          "metadata": {},
          "execution_count": 7
        }
      ],
      "source": [
        "#drop duplicates\n",
        "df = df.drop_duplicates()\n",
        "df.count()\n"
      ]
    },
    {
      "cell_type": "code",
      "execution_count": null,
      "metadata": {
        "colab": {
          "base_uri": "https://localhost:8080/"
        },
        "id": "b8N_f93XrOFI",
        "outputId": "5bfeeb6b-193b-48d4-d3bc-6214f254cd58"
      },
      "outputs": [
        {
          "name": "stdout",
          "output_type": "stream",
          "text": [
            "InvoiceNo           0\n",
            "StockCode           0\n",
            "Description      1454\n",
            "Quantity            0\n",
            "InvoiceDate         0\n",
            "UnitPrice           0\n",
            "CustomerID     135037\n",
            "Country             0\n",
            "dtype: int64\n"
          ]
        }
      ],
      "source": [
        "#check for nulls\n",
        "print(df.isnull().sum())"
      ]
    },
    {
      "cell_type": "markdown",
      "source": [
        "Description and CustomerID nulls will not affect the analysis, will not drop the rows."
      ],
      "metadata": {
        "id": "XUU9bUZtFsvd"
      }
    },
    {
      "cell_type": "code",
      "execution_count": null,
      "metadata": {
        "colab": {
          "base_uri": "https://localhost:8080/"
        },
        "id": "wVbyGrzxJXxP",
        "outputId": "0c8904b4-eb16-4728-eced-d0c910656b0a"
      },
      "outputs": [
        {
          "output_type": "stream",
          "name": "stdout",
          "text": [
            "Number of rows: 536641\n"
          ]
        }
      ],
      "source": [
        "#recheck row count after cleaning\n",
        "row_count = df.shape[0]\n",
        "print(f\"Number of rows: {row_count}\")"
      ]
    },
    {
      "cell_type": "code",
      "execution_count": null,
      "metadata": {
        "id": "iwo95z-ANXEy"
      },
      "outputs": [],
      "source": [
        "# Convert to datetime and sort\n",
        "df['InvoiceDate'] = pd.to_datetime(df['InvoiceDate'])\n",
        "df = df.sort_values('InvoiceDate')\n",
        "\n",
        "# Set Date as index (for time-based operations)\n",
        "df.set_index('InvoiceDate', inplace=True)\n",
        "#move up to cleaning\n"
      ]
    },
    {
      "cell_type": "markdown",
      "metadata": {
        "id": "hHSLKJP2S3g3"
      },
      "source": [
        "# **Descriptive Statistics**"
      ]
    },
    {
      "cell_type": "code",
      "execution_count": null,
      "metadata": {
        "colab": {
          "base_uri": "https://localhost:8080/"
        },
        "id": "4dHXQPdbXXjx",
        "outputId": "af5a82e7-9834-4977-83bd-2d85eb22edc4"
      },
      "outputs": [
        {
          "output_type": "stream",
          "name": "stdout",
          "text": [
            "Descriptive Statistics:\n",
            "\n",
            "+-----------+----------+-------------------+--------------------+-----------+------+------+------+---------+\n",
            "|           |  count   |       mean        |        std         |    min    | 25%  | 50%  | 75%  |   max   |\n",
            "+-----------+----------+-------------------+--------------------+-----------+------+------+------+---------+\n",
            "| Quantity  | 536641.0 | 9.620029032444409 | 219.13015613097335 | -80995.0  | 1.0  | 3.0  | 10.0 | 80995.0 |\n",
            "| UnitPrice | 536641.0 | 4.632655674836622 | 97.23311763773249  | -11062.06 | 1.25 | 2.08 | 4.13 | 38970.0 |\n",
            "+-----------+----------+-------------------+--------------------+-----------+------+------+------+---------+\n",
            "\n",
            "Summary Statistics:\n",
            "\n",
            "+-----------+--------+------+----------+-------------------+--------------------+------+\n",
            "|           | Median | Mode |  Range   |     Variance      |      Std Dev       | IQR  |\n",
            "+-----------+--------+------+----------+-------------------+--------------------+------+\n",
            "| Quantity  |  3.0   | 1.0  | 161990.0 | 48018.02532598476 | 219.13015613097335 | 9.0  |\n",
            "| UnitPrice |  2.08  | 1.25 | 50032.06 | 9454.279165553125 | 97.23311763773249  | 2.88 |\n",
            "+-----------+--------+------+----------+-------------------+--------------------+------+\n"
          ]
        }
      ],
      "source": [
        "#Unit Price and Quantity Stats\n",
        "\n",
        "# Select numeric columns and drop 'CustomerID'\n",
        "numeric_df = df.select_dtypes(include='number').drop(columns=['CustomerID'])\n",
        "\n",
        "#Descriptive Statistics\n",
        "print(\"Descriptive Statistics:\\n\")\n",
        "print(tabulate(numeric_df.describe().T, headers='keys', tablefmt='pretty'))\n",
        "\n",
        "# Central tendency\n",
        "mean = numeric_df.mean()\n",
        "median = numeric_df.median()\n",
        "mode = numeric_df.mode().iloc[0]  # Take the first mode if multiple\n",
        "\n",
        "# Dispersion\n",
        "data_range = numeric_df.max() - numeric_df.min()\n",
        "variance = numeric_df.var()\n",
        "standard_deviation = numeric_df.std()\n",
        "iqr = numeric_df.quantile(0.75) - numeric_df.quantile(0.25)\n",
        "\n",
        "\n",
        "stats_df = pd.DataFrame({\n",
        "    'Median': median,\n",
        "    'Mode': mode,\n",
        "    'Range': data_range,\n",
        "    'Variance': variance,\n",
        "    'Std Dev': standard_deviation,\n",
        "    'IQR': iqr\n",
        "})\n",
        "\n",
        "print(\"\\nSummary Statistics:\\n\")\n",
        "print(tabulate(stats_df, headers='keys', tablefmt='pretty', floatfmt=\".2f\"))\n"
      ]
    },
    {
      "cell_type": "markdown",
      "source": [
        "## **Product Analysis: Quantity and Sales**"
      ],
      "metadata": {
        "id": "MI3fAXCjg0Bq"
      }
    },
    {
      "cell_type": "code",
      "source": [
        "# Top 10 best-selling items by quantity and revenue\n",
        "\n",
        "# Calculate total revenue per transaction line\n",
        "df['TotalRevenue'] = df['Quantity'] * df['UnitPrice']\n",
        "\n",
        "# Group by product and aggregate metrics\n",
        "product_analysis = df.groupby(['StockCode', 'Description']).agg(\n",
        "    TotalQuantity=('Quantity', 'sum'),\n",
        "    TotalRevenue=('TotalRevenue', 'sum')\n",
        ").reset_index()\n",
        "\n",
        "# Top 10 by Quantity Sold\n",
        "top10_quantity = product_analysis.nlargest(10, 'TotalQuantity')[['Description', 'TotalQuantity']]\n",
        "print(\"Top 10 Products by Quantity Sold:\")\n",
        "print(top10_quantity.to_string(index=False))\n",
        "\n",
        "# Top 10 by Revenue Generated\n",
        "top10_revenue = product_analysis.nlargest(10, 'TotalRevenue')[['Description', 'TotalRevenue']]\n",
        "print(\"\\nTop 10 Products by Revenue:\")\n",
        "print(top10_revenue.to_string(index=False))\n",
        "\n",
        "# Combined Analysis (Products in Both Top 10s)\n",
        "combined_top = product_analysis[\n",
        "    product_analysis['Description'].isin(top10_quantity['Description']) &\n",
        "    product_analysis['Description'].isin(top10_revenue['Description'])\n",
        "]\n",
        "print(\"\\nProducts Appearing in Both Top 10 Lists:\")\n",
        "print(combined_top[['Description', 'TotalQuantity', 'TotalRevenue']].to_string(index=False))\n",
        "\n",
        "\n",
        "import matplotlib.pyplot as plt\n",
        "\n",
        "fig, ax = plt.subplots(2, 1, figsize=(14, 12))\n",
        "\n",
        "# Quantity Chart\n",
        "top10_quantity.plot(kind='barh', y='TotalQuantity', x='Description',\n",
        "                    ax=ax[0], title='Top 10 Products by Units Sold',\n",
        "                    legend=False, color='skyblue')\n",
        "ax[0].set_xlabel('Total Quantity Sold')\n",
        "ax[0].invert_yaxis()\n",
        "\n",
        "# Revenue Chart\n",
        "top10_revenue.plot(kind='barh', y='TotalRevenue', x='Description',\n",
        "                   ax=ax[1], title='Top 10 Products by Revenue',\n",
        "                   legend=False, color='lightgreen')\n",
        "ax[1].set_xlabel('Total Revenue (USD)')\n",
        "ax[1].invert_yaxis()\n",
        "\n",
        "plt.tight_layout()\n",
        "plt.show()\n",
        "\n",
        "# Additional\n",
        "print(\"\\nKey Statistics:\")\n",
        "print(f\"Total Products: {len(product_analysis):,}\")\n",
        "print(f\"Average Quantity per Product: {product_analysis['TotalQuantity'].mean():.1f}\")\n",
        "print(f\"Average Revenue per Product: ${product_analysis['TotalRevenue'].mean():,.2f}\")\n"
      ],
      "metadata": {
        "colab": {
          "base_uri": "https://localhost:8080/",
          "height": 1000
        },
        "id": "lZgkJJeFDRs1",
        "outputId": "33ade1b4-a6b9-46a7-9203-029c9cd14760"
      },
      "execution_count": null,
      "outputs": [
        {
          "output_type": "stream",
          "name": "stdout",
          "text": [
            "Top 10 Products by Quantity Sold:\n",
            "                       Description  TotalQuantity\n",
            " WORLD WAR 2 GLIDERS ASSTD DESIGNS          53751\n",
            "           JUMBO BAG RED RETROSPOT          47260\n",
            "                    POPCORN HOLDER          36322\n",
            "     ASSORTED COLOUR BIRD ORNAMENT          36282\n",
            "   PACK OF 72 RETROSPOT CAKE CASES          36016\n",
            "WHITE HANGING HEART T-LIGHT HOLDER          35006\n",
            "                RABBIT NIGHT LIGHT          30631\n",
            "           MINI PAINT SET VINTAGE           26437\n",
            "        PACK OF 12 LONDON TISSUES           26299\n",
            "PACK OF 60 PINK PAISLEY CAKE CASES          24719\n",
            "\n",
            "Top 10 Products by Revenue:\n",
            "                       Description  TotalRevenue\n",
            "                    DOTCOM POSTAGE     206245.48\n",
            "          REGENCY CAKESTAND 3 TIER     164459.49\n",
            "                     PARTY BUNTING      98243.88\n",
            "WHITE HANGING HEART T-LIGHT HOLDER      97659.94\n",
            "           JUMBO BAG RED RETROSPOT      92175.79\n",
            "                RABBIT NIGHT LIGHT      66661.63\n",
            "                           POSTAGE      66230.64\n",
            "   PAPER CHAIN KIT 50'S CHRISTMAS       63715.24\n",
            "     ASSORTED COLOUR BIRD ORNAMENT      58792.42\n",
            "                     CHILLI LIGHTS      53746.66\n",
            "\n",
            "Products Appearing in Both Top 10 Lists:\n",
            "                       Description  TotalQuantity  TotalRevenue\n",
            "                RABBIT NIGHT LIGHT          30631      66661.63\n",
            "     ASSORTED COLOUR BIRD ORNAMENT          36282      58792.42\n",
            "           JUMBO BAG RED RETROSPOT          47260      92175.79\n",
            "WHITE HANGING HEART T-LIGHT HOLDER          35006      97659.94\n",
            "WHITE HANGING HEART T-LIGHT HOLDER            292       1952.48\n"
          ]
        },
        {
          "output_type": "display_data",
          "data": {
            "text/plain": [
              "<Figure size 1400x1200 with 2 Axes>"
            ],
            "image/png": "[encoded data removed]"
          },
          "metadata": {}
        },
        {
          "output_type": "stream",
          "name": "stdout",
          "text": [
            "\n",
            "Key Statistics:\n",
            "Total Products: 4,792\n",
            "Average Quantity per Product: 1080.2\n",
            "Average Revenue per Product: $2,029.63\n"
          ]
        }
      ]
    },
    {
      "cell_type": "code",
      "source": [
        "# Check for negative quantities/prices- Total returned items\n",
        "print(\"\\nData Quality Checks:\")\n",
        "print(\"Negative Quantities:\", df[df['Quantity'] < 0].shape[0])\n",
        "print(\"Zero/Null Prices:\", df[(df['UnitPrice'] <= 0) | df['UnitPrice'].isnull()].shape[0])\n"
      ],
      "metadata": {
        "colab": {
          "base_uri": "https://localhost:8080/"
        },
        "id": "iPrHKDohHugu",
        "outputId": "3bdba5f4-8b98-40e4-d2c7-882a95a8cabe"
      },
      "execution_count": null,
      "outputs": [
        {
          "output_type": "stream",
          "name": "stdout",
          "text": [
            "\n",
            "Data Quality Checks:\n",
            "Negative Quantities: 10587\n",
            "Zero/Null Prices: 2512\n"
          ]
        }
      ]
    },
    {
      "cell_type": "markdown",
      "source": [
        "# **Country Analysis**"
      ],
      "metadata": {
        "id": "A8K9UJNAgBq0"
      }
    },
    {
      "cell_type": "code",
      "source": [
        "# List and number of countries in dataset\n",
        "unique_countries = df['Country'].unique()\n",
        "print(\"List of unique countries:\")\n",
        "print(unique_countries)\n",
        "print(f\"Number of unique countries in the dataset: {unique_countries.shape[0]}\")"
      ],
      "metadata": {
        "colab": {
          "base_uri": "https://localhost:8080/"
        },
        "id": "sfj3P7ONNotp",
        "outputId": "ed5853f9-157a-4630-9e14-49f6c832259c"
      },
      "execution_count": null,
      "outputs": [
        {
          "output_type": "stream",
          "name": "stdout",
          "text": [
            "List of unique countries:\n",
            "['United Kingdom' 'France' 'Australia' 'Netherlands' 'Germany' 'Norway'\n",
            " 'EIRE' 'Switzerland' 'Spain' 'Poland' 'Portugal' 'Italy' 'Belgium'\n",
            " 'Lithuania' 'Japan' 'Iceland' 'Channel Islands' 'Denmark' 'Cyprus'\n",
            " 'Sweden' 'Austria' 'Israel' 'Finland' 'Bahrain' 'Greece' 'Hong Kong'\n",
            " 'Singapore' 'Lebanon' 'United Arab Emirates' 'Saudi Arabia'\n",
            " 'Czech Republic' 'Canada' 'Unspecified' 'Brazil' 'USA'\n",
            " 'European Community' 'Malta' 'RSA']\n",
            "Number of unique countries in the dataset: 38\n"
          ]
        }
      ]
    },
    {
      "cell_type": "code",
      "source": [
        "# Calculate revenue and total quantity\n",
        "df['Revenue'] = df['Quantity'] * df['UnitPrice']\n",
        "\n",
        "# Aggregate country stats\n",
        "country_stats = df.groupby('Country').agg(\n",
        "    TotalQuantity=('Quantity', 'sum'),\n",
        "    TotalRevenue=('Revenue', 'sum')\n",
        ").reset_index().sort_values('TotalQuantity', ascending=False)\n",
        "\n",
        "# Add percentage contribution\n",
        "total_revenue = country_stats['TotalRevenue'].sum()\n",
        "country_stats['Rev %'] = (country_stats['TotalRevenue'] / total_revenue * 100).round(1)\n",
        "\n",
        "\n",
        "print(\"\\nTop Countries by Quantity Sold with Revenue and Percentage Contributions:\")\n",
        "print(tabulate(\n",
        "    country_stats.head(10)[['Country', 'TotalQuantity', 'TotalRevenue', 'Rev %']],\n",
        "    headers=['Country', 'Quantity','Revenue', 'Rev %'],\n",
        "    tablefmt='pretty',\n",
        "    numalign=\"right\",\n",
        "    floatfmt=(\",.0f\", \".1f\", \",.0f\", \".1f\"),\n",
        "    showindex=False\n",
        "))"
      ],
      "metadata": {
        "colab": {
          "base_uri": "https://localhost:8080/"
        },
        "id": "zzaPoOEPTmNI",
        "outputId": "8b74b9c2-e76d-4c71-827d-0f9d0909c9e3"
      },
      "execution_count": null,
      "outputs": [
        {
          "output_type": "stream",
          "name": "stdout",
          "text": [
            "\n",
            "Top Countries by Quantity Sold with Revenue and Percentage Contributions:\n",
            "+----------------+----------+-------------+-------+\n",
            "|    Country     | Quantity |   Revenue   | Rev % |\n",
            "+----------------+----------+-------------+-------+\n",
            "| United Kingdom | 4250328  | 8167128.184 | 84.0  |\n",
            "|  Netherlands   |  200128  |  284661.54  |  2.9  |\n",
            "|      EIRE      |  142495  |  262993.38  |  2.7  |\n",
            "|    Germany     |  117341  |  221509.47  |  2.3  |\n",
            "|     France     |  110438  |  197317.11  |  2.0  |\n",
            "|   Australia    |  83643   |  137009.77  |  1.4  |\n",
            "|     Sweden     |  35632   |  36585.41   |  0.4  |\n",
            "|  Switzerland   |  30313   |  56363.05   |  0.6  |\n",
            "|     Spain      |  26817   |  54756.03   |  0.6  |\n",
            "|     Japan      |  25218   |  35340.62   |  0.4  |\n",
            "+----------------+----------+-------------+-------+\n"
          ]
        }
      ]
    },
    {
      "cell_type": "code",
      "source": [
        "# Top product per country\n",
        "\n",
        "# Collect all top products\n",
        "all_products = []\n",
        "for country in country_products['Country'].unique():\n",
        "    top_product = country_products[country_products['Country'] == country] \\\n",
        "        .nlargest(1, 'CountryQuantity') \\\n",
        "        [['Country', 'Description', 'CountryQuantity', 'CountryRevenue']]\n",
        "    all_products.append(top_product)\n",
        "\n",
        "# Combine and number entries starting at 1\n",
        "combined = pd.concat(all_products).reset_index(drop=True)\n",
        "combined.insert(0, '#', range(1, len(combined)+1))\n",
        "\n",
        "\n",
        "print(\"\\nTop Product per Country (Numbered):\")\n",
        "print(tabulate(\n",
        "    combined,\n",
        "    headers=['#', 'Country', 'Product', 'Units Sold', 'Revenue'],\n",
        "    tablefmt='pretty',\n",
        "    numalign=\"right\",\n",
        "    floatfmt=\",.2f\",\n",
        "    showindex=False\n",
        "))"
      ],
      "metadata": {
        "colab": {
          "base_uri": "https://localhost:8080/"
        },
        "id": "zDwkbISnYBrS",
        "outputId": "f0a98241-275d-4be7-aacd-1d868059032f"
      },
      "execution_count": null,
      "outputs": [
        {
          "output_type": "stream",
          "name": "stdout",
          "text": [
            "\n",
            "Top Product per Country (Numbered):\n",
            "+----+----------------------+-------------------------------------+------------+--------------------+\n",
            "| #  |       Country        |               Product               | Units Sold |      Revenue       |\n",
            "+----+----------------------+-------------------------------------+------------+--------------------+\n",
            "| 1  |      Australia       |       MINI PAINT SET VINTAGE        |    2916    |       1607.4       |\n",
            "| 2  |       Austria        |  SET 12 KIDS COLOUR  CHALK STICKS   |    288     | 103.67999999999999 |\n",
            "| 3  |       Bahrain        |     ICE CREAM SUNDAE LIP GLOSS      |     96     |       120.0        |\n",
            "| 4  |       Belgium        |   PACK OF 72 RETROSPOT CAKE CASES   |    480     |       248.4        |\n",
            "| 5  |        Brazil        | SET/3 RED GINGHAM ROSE STORAGE BOX  |     24     |       81.36        |\n",
            "| 6  |        Canada        |     RETRO COFFEE MUGS ASSORTED      |    504     |       534.24       |\n",
            "| 7  |   Channel Islands    |             RAIN PONCHO             |    407     |       264.55       |\n",
            "| 8  |        Cyprus        |    HEART DECORATION PAINTED ZINC    |    384     |       220.8        |\n",
            "| 9  |    Czech Republic    | WOODEN STAR CHRISTMAS SCANDINAVIAN  |     72     |       20.88        |\n",
            "| 10 |       Denmark        |        RED  HARMONICA IN BOX        |    288     |       314.4        |\n",
            "| 11 |         EIRE         |   PACK OF 72 RETROSPOT CAKE CASES   |    1728    | 872.4000000000001  |\n",
            "| 12 |  European Community  |     ROCKING HORSE RED CHRISTMAS     |     24     |        20.4        |\n",
            "| 13 |       Finland        |   CHILDRENS CUTLERY POLKADOT PINK   |    480     |       1819.2       |\n",
            "| 14 |        France        |         RABBIT NIGHT LIGHT          |    4023    |      7275.12       |\n",
            "| 15 |       Germany        | ROUND SNACK BOXES SET OF4 WOODLAND  |    1206    | 3519.3000000000006 |\n",
            "| 16 |        Greece        | 4 LAVENDER BOTANICAL DINNER CANDLES |     48     |        60.0        |\n",
            "| 17 |      Hong Kong       | ROUND SNACK BOXES SET OF4 WOODLAND  |    150     |       384.9        |\n",
            "| 18 |       Iceland        |     ICE CREAM SUNDAE LIP GLOSS      |    240     | 249.60000000000002 |\n",
            "| 19 |        Israel        |       WOODLAND CHARLOTTE BAG        |    130     |        97.5        |\n",
            "| 20 |        Italy         |        FEATHER PEN,HOT PINK         |    240     |       137.76       |\n",
            "| 21 |        Japan         |         RABBIT NIGHT LIGHT          |    3401    |      6087.79       |\n",
            "| 22 |       Lebanon        | ASSTD FRUIT+FLOWERS FRIDGE MAGNETS  |     24     | 13.200000000000001 |\n",
            "| 23 |      Lithuania       |        RED  HARMONICA IN BOX        |     48     |        60.0        |\n",
            "| 24 |        Malta         |        GRAND CHOCOLATECANDLE        |     75     | 108.74999999999999 |\n",
            "| 25 |     Netherlands      |         RABBIT NIGHT LIGHT          |    4801    |      9568.48       |\n",
            "| 26 |        Norway        | SMALL FOLDING SCISSOR(POINTED EDGE) |    576     | 69.11999999999999  |\n",
            "| 27 |        Poland        |   STRAWBERRY CERAMIC TRINKET BOX    |    144     |       166.32       |\n",
            "| 28 |       Portugal       |            POLKADOT PEN             |    240     |       204.0        |\n",
            "| 29 |         RSA          |       WOODEN BOX OF DOMINOES        |     12     |        15.0        |\n",
            "| 30 |     Saudi Arabia     |       PLASTERS IN TIN SKULLS        |     12     | 19.799999999999997 |\n",
            "| 31 |      Singapore       |     CHRISTMAS TREE PAINTED ZINC     |    384     | 176.64000000000001 |\n",
            "| 32 |        Spain         |   CHILDRENS CUTLERY POLKADOT PINK   |    729     | 2737.3500000000004 |\n",
            "| 33 |        Sweden        |       MINI PAINT SET VINTAGE        |    2916    |       1895.4       |\n",
            "| 34 |     Switzerland      |  PLASTERS IN TIN WOODLAND ANIMALS   |    639     |       977.55       |\n",
            "| 35 |         USA          |   SET 12 COLOURING PENCILS DOILY    |     88     |        57.2        |\n",
            "| 36 | United Arab Emirates |     BIG DOUGHNUT FRIDGE MAGNETS     |     72     | 61.199999999999996 |\n",
            "| 37 |    United Kingdom    |  WORLD WAR 2 GLIDERS ASSTD DESIGNS  |   48230    | 12028.119999999999 |\n",
            "| 38 |     Unspecified      |  WORLD WAR 2 GLIDERS ASSTD DESIGNS  |     96     | 27.839999999999996 |\n",
            "+----+----------------------+-------------------------------------+------------+--------------------+\n"
          ]
        }
      ]
    },
    {
      "cell_type": "code",
      "source": [
        "# Returned items (negative quantities)\n",
        "returns = df[df['Quantity'] < 0].groupby('Description')['Quantity'].sum()\n",
        "print(\"\\nMost Frequently Returned Products:\")\n",
        "print(returns.nsmallest(5).to_string())"
      ],
      "metadata": {
        "colab": {
          "base_uri": "https://localhost:8080/"
        },
        "id": "FKnc4CcTJe5Y",
        "outputId": "81d41374-ed55-4f64-f80c-a8025a718ba0"
      },
      "execution_count": null,
      "outputs": [
        {
          "output_type": "stream",
          "name": "stdout",
          "text": [
            "\n",
            "Most Frequently Returned Products:\n",
            "Description\n",
            "PAPER CRAFT , LITTLE BIRDIE      -80995\n",
            "MEDIUM CERAMIC TOP STORAGE JAR   -74494\n",
            "printing smudges/thrown away     -19200\n",
            "Unsaleable, destroyed.           -15644\n",
            "check                            -13247\n"
          ]
        }
      ]
    },
    {
      "cell_type": "markdown",
      "source": [
        "# **DateTime Analysis**"
      ],
      "metadata": {
        "id": "XjWiXIVAWy9r"
      }
    },
    {
      "cell_type": "code",
      "source": [
        "# Data Preparation\n",
        "df['InvoiceDate'] = pd.to_datetime(df['InvoiceDate'])\n",
        "df = df.sort_values('InvoiceDate').set_index('InvoiceDate')\n",
        "df['Revenue'] = df['Quantity'] * df['UnitPrice']\n",
        "\n",
        "# Create time analysis columns\n",
        "df['DayOfWeek'] = df.index.day_name()\n",
        "df['Hour'] = df.index.hour\n",
        "df['Date'] = df.index.date  # For daily counts\n",
        "\n",
        "# Calculate busiest day based on number of transactions\n",
        "daily_transactions = df.groupby('Date').size()\n",
        "busiest_day_date = daily_transactions.idxmax()\n",
        "busiest_day_of_week = busiest_day_date.strftime('%A')\n",
        "\n",
        "# Calculate busiest hour based on number of transactions\n",
        "hourly_transactions = df.groupby('Hour').size()\n",
        "busiest_hour = hourly_transactions.idxmax()\n",
        "\n",
        "# Sales analysis by day of week\n",
        "dow_analysis = df.groupby('DayOfWeek').agg(\n",
        "    Transactions=('Revenue', 'size'),\n",
        "    Quantity=('Quantity', 'sum'),\n",
        "    Revenue=('Revenue', 'sum')\n",
        ").reindex(['Monday','Tuesday','Wednesday','Thursday','Friday','Saturday','Sunday'])\n",
        "\n",
        "# Sales analysis by hour\n",
        "hourly_analysis = df.groupby('Hour').agg(\n",
        "    Transactions=('Revenue', 'size'),\n",
        "    Quantity=('Quantity', 'sum'),\n",
        "    Revenue=('Revenue', 'sum')\n",
        ")\n",
        "\n",
        "# Print results\n",
        "print(f\"Busiest Day: {busiest_day_of_week} ({busiest_day_date})\")\n",
        "print(f\"Busiest Hour: {busiest_hour}:00 - {busiest_hour+1}:00\")\n",
        "\n",
        "print(\"\\nDaily Performance Analysis:\")\n",
        "print(dow_analysis.to_string())\n",
        "\n",
        "print(\"\\nHourly Performance Analysis:\")\n",
        "print(hourly_analysis.to_string())\n",
        "\n",
        "# Optional: For transaction heatmap\n",
        "print(\"\\nTransaction Count by Hour and Day:\")\n",
        "print(pd.crosstab(df['DayOfWeek'], df['Hour'], normalize='columns').round(2))"
      ],
      "metadata": {
        "colab": {
          "base_uri": "https://localhost:8080/"
        },
        "id": "moYUJNJgWyam",
        "outputId": "e385d857-16d6-4e9a-a644-839f1e4a69c5"
      },
      "execution_count": null,
      "outputs": [
        {
          "output_type": "stream",
          "name": "stdout",
          "text": [
            "Busiest Day: Monday (2011-12-05)\n",
            "Busiest Hour: 12:00 - 13:00\n",
            "\n",
            "Daily Performance Analysis:\n",
            "           Transactions   Quantity      Revenue\n",
            "DayOfWeek                                      \n",
            "Monday          94435.0   813178.0  1584895.301\n",
            "Tuesday        101064.0   961133.0  1965703.611\n",
            "Wednesday       93715.0   967222.0  1730088.430\n",
            "Thursday       103056.0  1165600.0  2108701.530\n",
            "Friday          81565.0   793106.0  1537958.621\n",
            "Saturday            NaN        NaN          NaN\n",
            "Sunday          62806.0   462263.0   798659.461\n",
            "\n",
            "Hourly Performance Analysis:\n",
            "      Transactions  Quantity      Revenue\n",
            "Hour                                     \n",
            "6               41       -86     -497.350\n",
            "7              383     15361    31009.320\n",
            "8             8906    157715   281723.020\n",
            "9            34314    429254   766524.171\n",
            "10           48808    683519  1327329.891\n",
            "11           56949    635974  1146457.490\n",
            "12           77573    821059  1357595.120\n",
            "13           71247    674272  1172985.870\n",
            "14           66572    569420  1091408.741\n",
            "15           76938    608135  1186819.410\n",
            "16           54134    311445   727666.670\n",
            "17           28371    155892   434834.541\n",
            "18            7941     60502   140365.040\n",
            "19            3617     31851    45864.930\n",
            "20             847      8189    15920.090\n",
            "\n",
            "Transaction Count by Hour and Day:\n",
            "Hour        6     7     8     9     10    11    12    13    14    15    16  \\\n",
            "DayOfWeek                                                                    \n",
            "Friday     0.0  0.35  0.21  0.21  0.21  0.17  0.14  0.15  0.17  0.12  0.12   \n",
            "Monday     0.0  0.16  0.18  0.22  0.18  0.15  0.15  0.18  0.17  0.18  0.17   \n",
            "Sunday     0.0  0.00  0.00  0.00  0.07  0.18  0.17  0.17  0.15  0.13  0.07   \n",
            "Thursday   1.0  0.17  0.21  0.23  0.19  0.15  0.17  0.17  0.17  0.15  0.22   \n",
            "Tuesday    0.0  0.17  0.20  0.19  0.19  0.18  0.18  0.17  0.17  0.21  0.22   \n",
            "Wednesday  0.0  0.15  0.21  0.15  0.16  0.17  0.18  0.16  0.16  0.21  0.20   \n",
            "\n",
            "Hour         17    18    19    20  \n",
            "DayOfWeek                          \n",
            "Friday     0.16  0.00  0.02  0.01  \n",
            "Monday     0.29  0.05  0.00  0.00  \n",
            "Sunday     0.00  0.00  0.00  0.00  \n",
            "Thursday   0.18  0.68  0.97  0.97  \n",
            "Tuesday    0.20  0.26  0.00  0.00  \n",
            "Wednesday  0.17  0.00  0.00  0.02  \n"
          ]
        }
      ]
    },
    {
      "cell_type": "code",
      "source": [
        "#Step 2: Busiest Days by Quantity & Revenue\n",
        "# Daily totals\n",
        "daily_quantity = df['Quantity'].resample('D').sum()\n",
        "daily_revenue = df['Revenue'].resample('D').sum()\n",
        "\n",
        "# Top 5 busiest days\n",
        "top_days_quantity = daily_quantity.nlargest(5)\n",
        "top_days_revenue = daily_revenue.nlargest(5)\n",
        "\n",
        "print(\"Top 5 Days by Quantity Sold:\")\n",
        "print(top_days_quantity.to_string())\n",
        "\n",
        "print(\"\\nTop 5 Days by Revenue:\")\n",
        "print(top_days_revenue.to_string())"
      ],
      "metadata": {
        "colab": {
          "base_uri": "https://localhost:8080/"
        },
        "id": "RzpkW3gvceLO",
        "outputId": "8a5e67d4-711f-4102-cab8-ccd3a37af160"
      },
      "execution_count": null,
      "outputs": [
        {
          "output_type": "stream",
          "name": "stdout",
          "text": [
            "Top 5 Days by Quantity Sold:\n",
            "InvoiceDate\n",
            "2011-10-05    46097\n",
            "2011-11-14    45842\n",
            "2011-12-05    44038\n",
            "2011-09-20    43659\n",
            "2011-10-20    40738\n",
            "\n",
            "Top 5 Days by Revenue:\n",
            "InvoiceDate\n",
            "2011-11-14    111958.62\n",
            "2011-09-20    109228.08\n",
            "2011-12-08     81294.33\n",
            "2011-11-23     78223.52\n",
            "2011-10-05     75111.57\n"
          ]
        }
      ]
    },
    {
      "cell_type": "code",
      "source": [
        "# Busiest weeks\n",
        "\n",
        "# Combine both metrics\n",
        "top_weeks = pd.DataFrame({\n",
        "    'Quantity': weekly_quantity,\n",
        "    'Revenue': weekly_revenue\n",
        "}).nlargest(5, 'Quantity')\n",
        "\n",
        "# Format dates\n",
        "top_weeks.index = top_weeks.index.strftime('%Y-%m-%d')\n",
        "\n",
        "print(\"\\nTop 5 Weeks by Quantity Sold with Revenue:\")\n",
        "print(top_weeks.to_string())\n",
        "\n",
        "\n"
      ],
      "metadata": {
        "colab": {
          "base_uri": "https://localhost:8080/"
        },
        "id": "ljPPcrZadIKq",
        "outputId": "e424e990-c855-4bbb-cd5c-7ee723d1b98f"
      },
      "execution_count": null,
      "outputs": [
        {
          "output_type": "stream",
          "name": "stdout",
          "text": [
            "\n",
            "Top 5 Weeks by Quantity Sold with Revenue:\n",
            "             Quantity    Revenue\n",
            "InvoiceDate                     \n",
            "2011-11-14     194594  387658.74\n",
            "2011-12-05     166803  321290.50\n",
            "2011-11-28     166420  313958.10\n",
            "2011-11-07     162864  308408.74\n",
            "2011-10-10     158597  281631.89\n"
          ]
        }
      ]
    },
    {
      "cell_type": "markdown",
      "source": [
        "END"
      ],
      "metadata": {
        "id": "uESSZ3O9cdtO"
      }
    },
    {
      "cell_type": "code",
      "source": [
        "#export cleaned dataset\n",
        "from google.colab import files\n",
        "df.to_csv('Online_Retail_Clean.csv', encoding = 'utf-8-sig')\n",
        "files.download('Online_Retail_Clean.csv')"
      ],
      "metadata": {
        "colab": {
          "base_uri": "https://localhost:8080/",
          "height": 17
        },
        "id": "hmGaFDKGcRkl",
        "outputId": "d9d1d664-7cde-4f8e-984a-abb7e844b26d"
      },
      "execution_count": null,
      "outputs": [
        {
          "output_type": "display_data",
          "data": {
            "text/plain": [
              "<IPython.core.display.Javascript object>"
            ],
            "application/javascript": [
              "\n",
              "    async function download(id, filename, size) {\n",
              "      if (!google.colab.kernel.accessAllowed) {\n",
              "        return;\n",
              "      }\n",
              "      const div = document.createElement('div');\n",
              "      const label = document.createElement('label');\n",
              "      label.textContent = `Downloading \"${filename}\": `;\n",
              "      div.appendChild(label);\n",
              "      const progress = document.createElement('progress');\n",
              "      progress.max = size;\n",
              "      div.appendChild(progress);\n",
              "      document.body.appendChild(div);\n",
              "\n",
              "      const buffers = [];\n",
              "      let downloaded = 0;\n",
              "\n",
              "      const channel = await google.colab.kernel.comms.open(id);\n",
              "      // Send a message to notify the kernel that we're ready.\n",
              "      channel.send({})\n",
              "\n",
              "      for await (const message of channel.messages) {\n",
              "        // Send a message to notify the kernel that we're ready.\n",
              "        channel.send({})\n",
              "        if (message.buffers) {\n",
              "          for (const buffer of message.buffers) {\n",
              "            buffers.push(buffer);\n",
              "            downloaded += buffer.byteLength;\n",
              "            progress.value = downloaded;\n",
              "          }\n",
              "        }\n",
              "      }\n",
              "      const blob = new Blob(buffers, {type: 'application/binary'});\n",
              "      const a = document.createElement('a');\n",
              "      a.href = window.URL.createObjectURL(blob);\n",
              "      a.download = filename;\n",
              "      div.appendChild(a);\n",
              "      a.click();\n",
              "      div.remove();\n",
              "    }\n",
              "  "
            ]
          },
          "metadata": {}
        },
        {
          "output_type": "display_data",
          "data": {
            "text/plain": [
              "<IPython.core.display.Javascript object>"
            ],
            "application/javascript": [
              "download(\"download_7a5d0345-9e90-450c-a6ae-e24584bf10ba\", \"Online_Retail_Clean.csv\", 63233397)"
            ]
          },
          "metadata": {}
        }
      ]
    },
    {
      "cell_type": "code",
      "source": [
        "# Save top products to Excel\n",
        "with pd.ExcelWriter('product_analysis.xlsx') as writer:\n",
        "    top10_quantity.to_excel(writer, sheet_name='Top Quantity', index=False)\n",
        "    top10_revenue.to_excel(writer, sheet_name='Top Revenue', index=False)\n",
        "    combined_top.to_excel(writer, sheet_name='Top Combined', index=False)\n"
      ],
      "metadata": {
        "id": "QiKlN_-wPvAy"
      },
      "execution_count": null,
      "outputs": []
    },
    {
      "cell_type": "code",
      "source": [
        "# Export for Tableau\n",
        "df.to_csv('cleaned_retail_data.csv', index=False)\n",
        "product_sales.to_csv('product_sales.csv', index=False)\n",
        "country_sales.to_csv('country_sales.csv', index=False)"
      ],
      "metadata": {
        "id": "t1co2A90eVDP"
      },
      "execution_count": null,
      "outputs": []
    }
  ],
  "metadata": {
    "colab": {
      "provenance": []
    },
    "kernelspec": {
      "display_name": "Python 3",
      "name": "python3"
    },
    "language_info": {
      "name": "python"
    }
  },
  "nbformat": 4,
  "nbformat_minor": 0
}